{
 "cells": [
  {
   "cell_type": "markdown",
   "metadata": {},
   "source": [
    "# Job Application Client Notebook\n",
    "\n",
    "This notebook provides an interactive interface for running the job application process using the CrewAI framework."
   ]
  },
  {
   "cell_type": "code",
   "execution_count": 1,
   "metadata": {},
   "outputs": [
    {
     "name": "stderr",
     "output_type": "stream",
     "text": [
      "/home/kedar/miniconda3/envs/rag-pipeline/lib/python3.10/site-packages/tqdm/auto.py:21: TqdmWarning: IProgress not found. Please update jupyter and ipywidgets. See https://ipywidgets.readthedocs.io/en/stable/user_install.html\n",
      "  from .autonotebook import tqdm as notebook_tqdm\n",
      "/home/kedar/miniconda3/envs/rag-pipeline/lib/python3.10/site-packages/pydantic/_internal/_config.py:341: UserWarning: Valid config keys have changed in V2:\n",
      "* 'allow_population_by_field_name' has been renamed to 'populate_by_name'\n",
      "* 'smart_union' has been removed\n",
      "  warnings.warn(message, UserWarning)\n"
     ]
    }
   ],
   "source": [
    "import sys\n",
    "import os\n",
    "\n",
    "# Add the parent directory to sys.path to be able to import the crew module\n",
    "sys.path.append(os.path.abspath(os.path.join(os.getcwd(), '..')))\n",
    "\n",
    "from crewai import Crew\n",
    "from crew.agents import create_agents\n",
    "from crew.tasks import create_tasks\n",
    "from crew.utils import load_config, print_llm_assignments"
   ]
  },
  {
   "cell_type": "markdown",
   "metadata": {},
   "source": [
    "## Configuration\n",
    "\n",
    "Set the paths for your resume and configuration file."
   ]
  },
  {
   "cell_type": "code",
   "execution_count": 3,
   "metadata": {},
   "outputs": [
    {
     "name": "stdout",
     "output_type": "stream",
     "text": [
      "{'api_keys': {'openai': 'sk-gkGEbzDTNCMlCpMTwcfki8STagFdl1f-v6SrzAQ2JVT3BlbkFJ7ewl3nrHV9GMJyaWy4reCBTMWvjIbyIwNNnUBIF4sA', 'anthropic': 'your_anthropic_api_key_here', 'google': 'your_google_api_key_here', 'serper': 'f5f0adc4b6ebe53f6ee355c83f6ab6ee53ddbbc1'}, 'agent_llms': {'job_analyzer': {'service': 'openai', 'model': 'gpt-4o-mini'}, 'relevance_selector': {'service': 'openai', 'model': 'gpt-4o-mini'}, 'emphasis_strategist': {'service': 'openai', 'model': 'gpt-4o-mini'}, 'cover_letter_writer': {'service': 'openai', 'model': 'gpt-4o-mini'}}}\n",
      "LLM assignments:\n",
      "Job Analyzer: openai - gpt-4o-mini\n",
      "Relevance Selector: openai - gpt-4o-mini\n",
      "Emphasis Strategist: openai - gpt-4o-mini\n",
      "Cover Letter Writer: openai - gpt-4o-mini\n"
     ]
    }
   ],
   "source": [
    "resume_path = \"../resume.md\"\n",
    "config_path = \"config.json\"\n",
    "\n",
    "# Load configuration\n",
    "config = load_config(config_path)\n",
    "\n",
    "# Check for Serper API key\n",
    "if 'serper' not in config['api_keys'] or not config['api_keys']['serper']:\n",
    "    raise ValueError(\"Serper API key is missing in the config file. Please add it to continue.\")\n",
    "\n",
    "# Print LLM assignments\n",
    "print_llm_assignments(config)"
   ]
  },
  {
   "cell_type": "markdown",
   "metadata": {},
   "source": [
    "## Job Information\n",
    "\n",
    "Enter the job posting URL and optionally, the job description."
   ]
  },
  {
   "cell_type": "code",
   "execution_count": null,
   "metadata": {},
   "outputs": [],
   "source": [
    "job_posting_url = input(\"Enter the job posting URL: \")\n",
    "job_description = input(\"Enter the job description (optional, press Enter to skip): \")\n",
    "\n",
    "# Add these to the config\n",
    "config['job_posting_url'] = job_posting_url\n",
    "config['job_description'] = job_description"
   ]
  },
  {
   "cell_type": "markdown",
   "metadata": {},
   "source": [
    "## Create Agents and Tasks"
   ]
  },
  {
   "cell_type": "code",
   "execution_count": null,
   "metadata": {},
   "outputs": [],
   "source": [
    "# Create agents\n",
    "job_analyzer, relevance_selector, emphasis_strategist, cover_letter_writer = create_agents(resume_path, config)\n",
    "\n",
    "# Create tasks\n",
    "job_analysis_task, relevance_task, emphasis_task, cover_letter_task = create_tasks(\n",
    "    job_analyzer, relevance_selector, emphasis_strategist, cover_letter_writer\n",
    ")"
   ]
  },
  {
   "cell_type": "markdown",
   "metadata": {},
   "source": [
    "## Create and Run the Crew"
   ]
  },
  {
   "cell_type": "code",
   "execution_count": null,
   "metadata": {},
   "outputs": [],
   "source": [
    "def run_job_application_process(resume_path, config):\n",
    "    # Create and run the crew\n",
    "    job_application_crew = Crew(\n",
    "        agents=[job_analyzer, relevance_selector, emphasis_strategist, cover_letter_writer],\n",
    "        tasks=[job_analysis_task, relevance_task, emphasis_task, cover_letter_task],\n",
    "        verbose=True\n",
    "    )\n",
    "\n",
    "    # Prepare inputs for the crew\n",
    "    job_application_inputs = {\n",
    "        'job_posting_url': config['job_posting_url'],\n",
    "        'super_resume_path': resume_path,\n",
    "        'job_description': config['job_description']\n",
    "    }\n",
    "\n",
    "    # Run the crew\n",
    "    result = job_application_crew.kickoff(inputs=job_application_inputs)\n",
    "    return result\n",
    "\n",
    "print(\"Starting job application process...\")\n",
    "result = run_job_application_process(resume_path, config)\n",
    "\n",
    "print(\"\\nJob Application Process Completed\")\n",
    "print(\"\\nResults:\")\n",
    "print(result)"
   ]
  },
  {
   "cell_type": "markdown",
   "metadata": {},
   "source": [
    "## Review Output Files\n",
    "\n",
    "The process should have generated several output files. Let's review them:"
   ]
  },
  {
   "cell_type": "code",
   "execution_count": null,
   "metadata": {},
   "outputs": [],
   "source": [
    "output_files = ['focused_resume.md', 'emphasize_strategy.md', 'cover_letter.md']\n",
    "\n",
    "for file in output_files:\n",
    "    print(f\"\\nContents of {file}:\")\n",
    "    print(\"-\" * 40)\n",
    "    try:\n",
    "        with open(file, 'r') as f:\n",
    "            print(f.read())\n",
    "    except FileNotFoundError:\n",
    "        print(f\"File {file} not found. It may not have been generated.\")"
   ]
  },
  {
   "cell_type": "markdown",
   "metadata": {},
   "source": [
    "## Next Steps\n",
    "\n",
    "1. Review the generated files and make any necessary adjustments.\n",
    "2. Use the focused resume and tailored cover letter for your job application.\n",
    "3. Consider the emphasis strategy when formatting your resume.\n",
    "\n",
    "Good luck with your job application!"
   ]
  }
 ],
 "metadata": {
  "kernelspec": {
   "display_name": "Python 3",
   "language": "python",
   "name": "python3"
  },
  "language_info": {
   "codemirror_mode": {
    "name": "ipython",
    "version": 3
   },
   "file_extension": ".py",
   "mimetype": "text/x-python",
   "name": "python",
   "nbconvert_exporter": "python",
   "pygments_lexer": "ipython3",
   "version": "3.10.14"
  }
 },
 "nbformat": 4,
 "nbformat_minor": 4
}
